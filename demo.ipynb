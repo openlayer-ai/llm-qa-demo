{
 "cells": [
  {
   "cell_type": "code",
   "execution_count": null,
   "id": "087aa2b0",
   "metadata": {},
   "outputs": [],
   "source": [
    "import pandas as pd"
   ]
  },
  {
   "cell_type": "code",
   "execution_count": null,
   "id": "9ca95f42",
   "metadata": {},
   "outputs": [],
   "source": [
    "dataset = pd.read_csv(\"validation.csv\")\n",
    "\n",
    "dataset.head()"
   ]
  },
  {
   "cell_type": "markdown",
   "id": "5faaa7bd",
   "metadata": {},
   "source": [
    "### <a id=\"client\">Instantiating the client</a>"
   ]
  },
  {
   "cell_type": "code",
   "execution_count": null,
   "id": "dbf313c9",
   "metadata": {},
   "outputs": [],
   "source": [
    "import openlayer\n",
    "\n",
    "openlayer.api.OPENLAYER_ENDPOINT = \"http://localhost:8080/v1\"\n",
    "openlayer.api.STORAGE = openlayer.api.StorageType.ONPREM\n",
    "\n",
    "client = openlayer.OpenlayerClient(\"-QfWTgH1NcHyBofvHr_Cm5huswkowJpJ\")\n"
   ]
  },
  {
   "cell_type": "markdown",
   "id": "214a29b5",
   "metadata": {},
   "source": [
    "### <a id=\"project\">Creating a project on the platform</a>"
   ]
  },
  {
   "cell_type": "code",
   "execution_count": null,
   "id": "7093d0dc",
   "metadata": {},
   "outputs": [],
   "source": [
    "from openlayer.tasks import TaskType\n",
    "\n",
    "project = client.load_project(\n",
    "    name=\"Stripe Docs QA\",\n",
    "    task_type=TaskType.LLM,\n",
    ")"
   ]
  },
  {
   "cell_type": "markdown",
   "id": "823818d1",
   "metadata": {},
   "source": [
    "### <a id=\"dataset\">Uploading datasets</a>\n",
    "\n",
    "Before adding the datasets to a project, we need to do Prepare a `dataset_config`.  \n",
    "\n",
    "This is a Python dictionary that contains all the information needed by the Openlayer platform to utilize the dataset. It should include the column names, the input variable names, etc. For details on the `dataset_config` items, see the [API reference](https://reference.openlayer.com/reference/api/openlayer.OpenlayerClient.add_dataset.html#openlayer.OpenlayerClient.add_dataset).\n",
    "\n",
    "Let's prepare the `dataset_config` for our validation set:"
   ]
  },
  {
   "cell_type": "code",
   "execution_count": null,
   "id": "6697ffac",
   "metadata": {},
   "outputs": [],
   "source": [
    "# Some variables that will go into the `dataset_config`\n",
    "input_variable_names = [\"user_question\", \"context\"]\n",
    "output_column_name = \"model_output_json\"\n",
    "context_column_name = \"context\"\n",
    "ground_truth_column_name = \"ideal_json\"\n",
    "question_column_name = \"user_question\""
   ]
  },
  {
   "cell_type": "code",
   "execution_count": null,
   "id": "e82abd9c",
   "metadata": {},
   "outputs": [],
   "source": [
    "validation_dataset_config = {\n",
    "    \"contextColumnName\": context_column_name,\n",
    "    \"groundTruthColumnName\": ground_truth_column_name,\n",
    "    \"inputVariableNames\": input_variable_names,\n",
    "    \"label\": \"validation\",\n",
    "    \"outputColumnName\": output_column_name,\n",
    "    \"questionColumnName\": question_column_name\n",
    "}"
   ]
  },
  {
   "cell_type": "code",
   "execution_count": null,
   "id": "aca4615a",
   "metadata": {},
   "outputs": [],
   "source": [
    "# Validation set\n",
    "project.add_dataframe(\n",
    "    dataset_df=dataset,\n",
    "    dataset_config=validation_dataset_config,\n",
    ")"
   ]
  },
  {
   "cell_type": "markdown",
   "id": "099fb391",
   "metadata": {},
   "source": [
    "We can confirm that the validation set is now staged using the `project.status()` method. "
   ]
  },
  {
   "cell_type": "code",
   "execution_count": null,
   "id": "94b41904",
   "metadata": {},
   "outputs": [],
   "source": [
    "project.status()"
   ]
  },
  {
   "cell_type": "code",
   "execution_count": null,
   "id": "ce27d79d",
   "metadata": {},
   "outputs": [],
   "source": [
    "prompt_template = \"\"\"\n",
    "You are provided a user question and relevant context from the documentation.\n",
    "You must answer the question taking into account the given context. Be polite and friendly. \n",
    "Your answer must be in JSON format with the fields:\n",
    "\n",
    "- answer: your answer to the user query\n",
    "- url: the url of the documentation page relevant to answer the question (given with the context)\n",
    "\n",
    "question: {{ user_question }}\n",
    "context: {{ context }}\n",
    "\"\"\"\n",
    "prompt = [\n",
    "    {\"role\": \"system\", \"content\": \"You are a helpful and polite assistant helping users understand documentation.\"},\n",
    "    {\"role\": \"user\", \"content\": prompt_template}\n",
    "]"
   ]
  },
  {
   "cell_type": "code",
   "execution_count": null,
   "id": "3e0f7ffa",
   "metadata": {},
   "outputs": [],
   "source": [
    "# Note the camelCase for the keys\n",
    "model_config = {\n",
    "    \"prompt\": prompt,\n",
    "    \"inputVariableNames\": [\"user_question\", \"context\"],\n",
    "    \"modelProvider\": \"OpenAI\",\n",
    "    \"modelType\": \"api\",\n",
    "    \"model\": \"gpt-3.5-turbo\",\n",
    "    \"modelParameters\": {\n",
    "        \"temperature\": 0\n",
    "    },\n",
    "}"
   ]
  },
  {
   "cell_type": "code",
   "execution_count": null,
   "id": "f40a1bb1",
   "metadata": {},
   "outputs": [],
   "source": [
    "# Adding the model\n",
    "project.add_model(\n",
    "    model_config=model_config,\n",
    ")"
   ]
  },
  {
   "cell_type": "markdown",
   "id": "d220ff0d",
   "metadata": {},
   "source": [
    "We can confirm that both the model and the validation set are now staged using the `project.status()` method. "
   ]
  },
  {
   "cell_type": "code",
   "execution_count": null,
   "id": "28e83471",
   "metadata": {},
   "outputs": [],
   "source": [
    "project.status()"
   ]
  },
  {
   "cell_type": "markdown",
   "id": "aebe833d",
   "metadata": {},
   "source": [
    "### <a id=\"commit\"> Committing and pushing to the platform </a>\n",
    "\n",
    "Finally, we can commit the first project version to the platform. "
   ]
  },
  {
   "cell_type": "code",
   "execution_count": null,
   "id": "91fba090",
   "metadata": {},
   "outputs": [],
   "source": [
    "project.commit(\"Initial commit!\")"
   ]
  },
  {
   "cell_type": "code",
   "execution_count": null,
   "id": "f5bfe65a",
   "metadata": {},
   "outputs": [],
   "source": [
    "project.status()"
   ]
  },
  {
   "cell_type": "code",
   "execution_count": null,
   "id": "3b65b005",
   "metadata": {},
   "outputs": [],
   "source": [
    "project.push()"
   ]
  },
  {
   "cell_type": "code",
   "execution_count": null,
   "id": "23a9a1c6",
   "metadata": {},
   "outputs": [],
   "source": []
  }
 ],
 "metadata": {
  "kernelspec": {
   "display_name": "Python 3 (ipykernel)",
   "language": "python",
   "name": "python3"
  },
  "language_info": {
   "codemirror_mode": {
    "name": "ipython",
    "version": 3
   },
   "file_extension": ".py",
   "mimetype": "text/x-python",
   "name": "python",
   "nbconvert_exporter": "python",
   "pygments_lexer": "ipython3",
   "version": "3.8.12"
  }
 },
 "nbformat": 4,
 "nbformat_minor": 5
}
